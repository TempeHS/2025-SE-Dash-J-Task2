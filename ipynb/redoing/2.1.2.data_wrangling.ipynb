{
 "cells": [
  {
   "cell_type": "markdown",
   "metadata": {},
   "source": [
    "first load the required libraries"
   ]
  },
  {
   "cell_type": "code",
   "execution_count": 1,
   "metadata": {},
   "outputs": [],
   "source": [
    "import pandas as pd\n",
    "from sklearn.preprocessing import MinMaxScaler"
   ]
  },
  {
   "cell_type": "code",
   "execution_count": 13,
   "metadata": {},
   "outputs": [],
   "source": [
    "data_frame = pd.read_csv(\"ipynb/redoing/livestock_sample_data copy 3.csv\", sep='\\t')"
   ]
  },
  {
   "cell_type": "code",
   "execution_count": 14,
   "metadata": {},
   "outputs": [
    {
     "data": {
      "text/plain": [
       "DATE         0\n",
       "TOTAL        0\n",
       "NSW_TOTAL    0\n",
       "VIC_TOTAL    0\n",
       "QLD_TOTAL    0\n",
       "SA_TOTAL     0\n",
       "WA_TOTAL     0\n",
       "TAS_TOTAL    0\n",
       "NT_TOTAL     8\n",
       "dtype: int64"
      ]
     },
     "execution_count": 14,
     "metadata": {},
     "output_type": "execute_result"
    }
   ],
   "source": [
    "data_frame.isnull().sum()"
   ]
  },
  {
   "cell_type": "markdown",
   "metadata": {},
   "source": [
    "dropping NT_TOTAL because it has large amounts of empty data in the collumns"
   ]
  },
  {
   "cell_type": "code",
   "execution_count": 15,
   "metadata": {},
   "outputs": [],
   "source": [
    "data_frame = data_frame.dropna(subset=['NT_TOTAL'])"
   ]
  },
  {
   "cell_type": "code",
   "execution_count": 16,
   "metadata": {},
   "outputs": [],
   "source": [
    "data_frame['TOTAL'] = data_frame['TOTAL'].fillna(data_frame['TOTAL'].mean())"
   ]
  },
  {
   "cell_type": "code",
   "execution_count": 17,
   "metadata": {},
   "outputs": [
    {
     "name": "stdout",
     "output_type": "stream",
     "text": [
      "0\n",
      "0\n"
     ]
    }
   ],
   "source": [
    "# Check for duplicates and remove them\n",
    "print(data_frame.duplicated().sum())\n",
    "data_frame = data_frame.drop_duplicates()\n",
    "print(data_frame.duplicated().sum())"
   ]
  },
  {
   "cell_type": "code",
   "execution_count": 18,
   "metadata": {},
   "outputs": [],
   "source": [
    "# Ensure the 'DATE' column is in datetime format\n",
    "data_frame['DATE'] = pd.to_datetime(data_frame['DATE'], format='%b-%Y')"
   ]
  },
  {
   "cell_type": "code",
   "execution_count": 19,
   "metadata": {},
   "outputs": [],
   "source": [
    "data_frame = data_frame.drop_duplicates(subset=['DATE'])"
   ]
  },
  {
   "cell_type": "code",
   "execution_count": 20,
   "metadata": {},
   "outputs": [
    {
     "name": "stdout",
     "output_type": "stream",
     "text": [
      "count     186.000000\n",
      "mean      996.353226\n",
      "std       104.731772\n",
      "min       738.000000\n",
      "25%       940.125000\n",
      "50%       990.200000\n",
      "75%      1061.525000\n",
      "max      1345.500000\n",
      "Name: TOTAL, dtype: float64\n",
      "Outliers are values above 1243.6250000000002 or below 758.0249999999999\n"
     ]
    }
   ],
   "source": [
    "# Calculate the IQR for the 'TOTAL' column to detect outliers\n",
    "print(data_frame['TOTAL'].describe())\n",
    "Q1 = data_frame['TOTAL'].quantile(0.25)\n",
    "Q3 = data_frame['TOTAL'].quantile(0.75)\n",
    "IQR = Q3 - Q1\n",
    "print(f'Outliers are values above {Q3 + 1.5 * IQR} or below {Q1 - 1.5 * IQR}')"
   ]
  },
  {
   "cell_type": "code",
   "execution_count": 21,
   "metadata": {},
   "outputs": [
    {
     "name": "stdout",
     "output_type": "stream",
     "text": [
      "count     181.000000\n",
      "mean      993.934807\n",
      "std        94.450578\n",
      "min       767.500000\n",
      "25%       941.400000\n",
      "50%       988.600000\n",
      "75%      1056.400000\n",
      "max      1212.700000\n",
      "Name: TOTAL, dtype: float64\n"
     ]
    }
   ],
   "source": [
    "# Remove outliers based on IQR\n",
    "data_frame = data_frame[(data_frame['TOTAL'] >= Q1 - 1.5 * IQR) & (data_frame['TOTAL'] <= Q3 + 1.5 * IQR)]\n",
    "print(data_frame['TOTAL'].describe())"
   ]
  },
  {
   "cell_type": "code",
   "execution_count": 22,
   "metadata": {},
   "outputs": [],
   "source": [
    "# Scale the 'TOTAL' column (you can choose any other numeric column if needed)\n",
    "scaler = MinMaxScaler()\n",
    "data_frame['TOTAL'] = scaler.fit_transform(data_frame[['TOTAL']])"
   ]
  },
  {
   "cell_type": "code",
   "execution_count": 23,
   "metadata": {},
   "outputs": [
    {
     "name": "stdout",
     "output_type": "stream",
     "text": [
      "                                DATE       TOTAL   NSW_TOTAL   VIC_TOTAL  \\\n",
      "count                            181  181.000000  181.000000  181.000000   \n",
      "mean   2002-05-12 01:03:38.784530432    0.508614  226.008287  169.941436   \n",
      "min              1979-06-01 00:00:00    0.000000  157.600000  104.500000   \n",
      "25%              1991-03-01 00:00:00    0.390611  201.600000  143.200000   \n",
      "50%              2002-06-01 00:00:00    0.496631  226.100000  161.400000   \n",
      "75%              2013-09-01 00:00:00    0.648922  248.600000  194.800000   \n",
      "max              2024-12-01 00:00:00    1.000000  326.500000  270.700000   \n",
      "std                              NaN    0.212153   33.135664   36.755436   \n",
      "\n",
      "        QLD_TOTAL    SA_TOTAL    WA_TOTAL   TAS_TOTAL    NT_TOTAL  \n",
      "count  181.000000  181.000000  181.000000  181.000000  181.000000  \n",
      "mean   461.151934   49.388950   55.863536   23.300000    6.339227  \n",
      "min    158.000000   17.100000   25.300000   12.700000    0.000000  \n",
      "25%    399.200000   38.100000   44.100000   19.300000    0.000000  \n",
      "50%    461.800000   50.400000   50.300000   23.000000    0.300000  \n",
      "75%    535.100000   59.700000   64.800000   27.100000    5.900000  \n",
      "max    673.000000   86.800000  113.800000   35.700000   49.400000  \n",
      "std    100.515552   14.709781   16.694131    4.784884   10.859203  \n"
     ]
    }
   ],
   "source": [
    "print(data_frame.describe())"
   ]
  },
  {
   "cell_type": "code",
   "execution_count": 24,
   "metadata": {},
   "outputs": [],
   "source": [
    "data_frame.to_csv('ipynb/redoing/cleaned_bulls_data.csv', index=False)"
   ]
  }
 ],
 "metadata": {
  "kernelspec": {
   "display_name": "Python 3 (ipykernel)",
   "language": "python",
   "name": "python3"
  },
  "language_info": {
   "codemirror_mode": {
    "name": "ipython",
    "version": 3
   },
   "file_extension": ".py",
   "mimetype": "text/x-python",
   "name": "python",
   "nbconvert_exporter": "python",
   "pygments_lexer": "ipython3",
   "version": "3.12.1"
  }
 },
 "nbformat": 4,
 "nbformat_minor": 2
}
