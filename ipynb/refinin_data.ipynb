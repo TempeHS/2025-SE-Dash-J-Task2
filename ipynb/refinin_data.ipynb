{
 "cells": [
  {
   "cell_type": "code",
   "execution_count": 1,
   "metadata": {},
   "outputs": [],
   "source": [
    "# Import frameworks\n",
    "import numpy as np\n",
    "import pandas as pd\n",
    "import matplotlib.pyplot as plt\n",
    "plt.style.use('style_Matplotlib_charts.mplstyle')\n",
    "from sklearn.linear_model import LinearRegression\n",
    "from sklearn.preprocessing import PolynomialFeatures, StandardScaler\n",
    "from sklearn.pipeline import make_pipeline\n",
    "import pickle"
   ]
  },
  {
   "cell_type": "code",
   "execution_count": null,
   "metadata": {},
   "outputs": [],
   "source": [
    "df = pd.read_csv('training_data.csv', sep='/')\n",
    "df[\"DATE\"] = pd.to_datetime(df[\"DATE\"], format=\"%b-%Y\")\n",
    "df[\"DATE_NUMERIC\"] = df[\"DATE\"].map(lambda x: x.toordinal())\n",
    "df[\"YEAR\"] = df[\"DATE\"].dt.year  # Extract the year\n",
    "df[\"MONTH\"] = df[\"DATE\"].dt.month  # Extract the month\n",
    "df.to_csv(\"refined_trainingdata.csv\", index=False)"
   ]
  },
  {
   "cell_type": "code",
   "execution_count": 4,
   "metadata": {},
   "outputs": [],
   "source": [
    "df = pd.read_csv('testing_data.csv')\n",
    "df[\"DATE\"] = pd.to_datetime(df[\"DATE\"], format=\"%b-%Y\")\n",
    "df[\"DATE_NUMERIC\"] = df[\"DATE\"].map(lambda x: x.toordinal())\n",
    "df[\"YEAR\"] = df[\"DATE\"].dt.year  # Extract the year\n",
    "df[\"MONTH\"] = df[\"DATE\"].dt.month  # Extract the month\n",
    "df.to_csv(\"refined_testingdata.csv\", index=False)"
   ]
  }
 ],
 "metadata": {
  "kernelspec": {
   "display_name": "Python 3",
   "language": "python",
   "name": "python3"
  },
  "language_info": {
   "codemirror_mode": {
    "name": "ipython",
    "version": 3
   },
   "file_extension": ".py",
   "mimetype": "text/x-python",
   "name": "python",
   "nbconvert_exporter": "python",
   "pygments_lexer": "ipython3",
   "version": "3.12.1"
  }
 },
 "nbformat": 4,
 "nbformat_minor": 2
}
