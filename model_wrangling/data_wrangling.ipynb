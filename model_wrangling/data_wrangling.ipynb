{
 "cells": [
  {
   "cell_type": "markdown",
   "metadata": {},
   "source": [
    "#### Data Wrangling\n",
    "\n",
    "The data set consists of monthly statistics of data across several states. For the dataset, i will need focus on time series forecasting, which can predict the total values for each state across time. i will start here by loading and cleaning the data.\n",
    "\n",
    "##### Step 1:\n",
    "- load the needed libraries\n",
    "\n",
    "##### why?\n",
    "- pandas: What it does: Pandas is a versatile library for data manipulation and analysis. It provides two main data structures: DataFrame for tabular data and Series for one-dimensional data.\n",
    "\n",
    "- Why it's needed, It is used for reading, cleaning, transforming, and summarizing data. You can perform operations like filtering rows, handling missing values, grouping data, merging datasets, and more. It's esssential to any data wrangling process.\n",
    "\n"
   ]
  },
  {
   "cell_type": "code",
   "execution_count": 5,
   "metadata": {},
   "outputs": [],
   "source": [
    "import pandas as pd\n",
    "import numpy as np\n",
    "from sklearn.preprocessing import MinMaxScaler\n",
    "from sklearn.linear_model import LinearRegression\n",
    "from sklearn.preprocessing import PolynomialFeatures, StandardScaler\n",
    "from sklearn.pipeline import make_pipeline\n",
    "import pickle\n",
    "import matplotlib.pyplot as plt\n",
    "from sklearn.model_selection import train_test_split\n",
    "from sklearn.linear_model import LinearRegression\n",
    "from sklearn.preprocessing import PolynomialFeatures\n",
    "from sklearn.metrics import mean_squared_error, r2_score"
   ]
  },
  {
   "cell_type": "markdown",
   "metadata": {},
   "source": [
    "####  Store the data as a local variable\n",
    "\n",
    "The data frame is a Pandas object that structures your tabular data into an appropriate format. It loads the complete data in memory so it is now ready for preprocessing."
   ]
  },
  {
   "cell_type": "code",
   "execution_count": 6,
   "metadata": {},
   "outputs": [],
   "source": [
    "data_frame = pd.read_csv(\"livestock_sample_data copy.csv\",sep='\\t')"
   ]
  },
  {
   "cell_type": "markdown",
   "metadata": {},
   "source": [
    "#### Dealing with null values\n",
    "\n",
    "Null values during data analysis can cause runtime errors and unexpected results. It is important to identify null values and deal with them appropriately before training a model.\n",
    "\n",
    "The `isnull().sum()` method call returns the null values in any column."
   ]
  },
  {
   "cell_type": "code",
   "execution_count": 7,
   "metadata": {},
   "outputs": [
    {
     "data": {
      "text/plain": [
       "Unnamed: 0     0\n",
       "state_total    0\n",
       "NSW_total      0\n",
       "VIC_total      0\n",
       "QLD_total      0\n",
       "SA_total       0\n",
       "WA_total       0\n",
       "TAS_total      0\n",
       "NT_total       7\n",
       "ACT_total      0\n",
       "dtype: int64"
      ]
     },
     "execution_count": 7,
     "metadata": {},
     "output_type": "execute_result"
    }
   ],
   "source": [
    "data_frame.isnull().sum()"
   ]
  },
  {
   "cell_type": "markdown",
   "metadata": {},
   "source": [
    "#### Remove Duplicates\n",
    "\n",
    "Duplicate data can have detrimental effects on your machine learning models and outcomes, such as reducing data diversity and representativeness, which can lead to overfitting or biased models.\n",
    "\n",
    "The `duplicated().sum()` method call returns the count of duplicate rows in the data frame."
   ]
  },
  {
   "cell_type": "code",
   "execution_count": 8,
   "metadata": {},
   "outputs": [
    {
     "data": {
      "text/plain": [
       "np.int64(0)"
      ]
     },
     "execution_count": 8,
     "metadata": {},
     "output_type": "execute_result"
    }
   ],
   "source": [
    "data_frame.duplicated().sum()"
   ]
  },
  {
   "cell_type": "markdown",
   "metadata": {},
   "source": [
    "The `drop_duplicates()` method call can be then stored back onto the data_frame variable removing the duplicates."
   ]
  },
  {
   "cell_type": "code",
   "execution_count": 9,
   "metadata": {},
   "outputs": [
    {
     "data": {
      "text/plain": [
       "np.int64(0)"
      ]
     },
     "execution_count": 9,
     "metadata": {},
     "output_type": "execute_result"
    }
   ],
   "source": [
    "data_frame = data_frame.drop_duplicates()\n",
    "data_frame.duplicated().sum()"
   ]
  },
  {
   "cell_type": "markdown",
   "metadata": {},
   "source": [
    "We can check that there are no data entry errors by the `unique()` method call."
   ]
  },
  {
   "cell_type": "code",
   "execution_count": 10,
   "metadata": {},
   "outputs": [
    {
     "data": {
      "text/plain": [
       "array([ nan, 28.5, 18. ,  6.9, 19.4, 34. , 25.6, 10.9, 32.9, 49.4, 27.2,\n",
       "        4. , 28.4, 36.1, 16.3,  4.2, 29.4, 43.2, 21.2,  3.2, 19.7, 45.7,\n",
       "       20.2,  4.5, 23.1, 29.3, 16. ,  5. , 15.9, 25.4, 15.4, 19.1, 30.2,\n",
       "       17.7,  3.1, 17.5, 35.7, 19.5,  3.3, 17. , 40.4, 16.7,  2.9, 14.8,\n",
       "       29.7, 17.9,  3.4, 21.9, 25.9, 14. ,  1.7, 14.6, 25.7,  6.5,  2.2,\n",
       "       18.4, 21.6,  5.2,  2.1,  6.7,  2.4,  0.5,  4.3,  5.3,  0.2,  9. ,\n",
       "        0.6,  3. ,  2.7,  5.5,  8.7,  0.3,  9.4,  2. ,  2.6,  5.9,  1.6,\n",
       "        1.3,  3.5,  0.4,  0. ])"
      ]
     },
     "execution_count": 10,
     "metadata": {},
     "output_type": "execute_result"
    }
   ],
   "source": [
    "data_frame['NT_total'].unique()"
   ]
  },
  {
   "cell_type": "markdown",
   "metadata": {},
   "source": [
    "#### removing the NT column:\n",
    "\n",
    "The NT column has null values meaning that it should be removed."
   ]
  },
  {
   "cell_type": "code",
   "execution_count": 11,
   "metadata": {},
   "outputs": [],
   "source": [
    "data_frame = data_frame.drop(columns='NT_total')"
   ]
  },
  {
   "cell_type": "code",
   "execution_count": 13,
   "metadata": {},
   "outputs": [],
   "source": [
    "data_frame.to_csv('almost_wrangled_data.csv', index=False)"
   ]
  },
  {
   "cell_type": "markdown",
   "metadata": {},
   "source": [
    "it will be quite hard to graph the date column as it is so i will extract the year and month and make them a numerical value"
   ]
  },
  {
   "cell_type": "code",
   "execution_count": 17,
   "metadata": {},
   "outputs": [
    {
     "name": "stdout",
     "output_type": "stream",
     "text": [
      "0   1976-12-01\n",
      "1   1977-03-01\n",
      "2   1977-06-01\n",
      "3   1977-09-01\n",
      "4   1977-12-01\n",
      "Name: Unnamed: 0, dtype: datetime64[ns]\n",
      "  Unnamed: 0  YEAR  MONTH\n",
      "0 1976-12-01  1976     12\n",
      "1 1977-03-01  1977      3\n",
      "2 1977-06-01  1977      6\n",
      "3 1977-09-01  1977      9\n",
      "4 1977-12-01  1977     12\n"
     ]
    }
   ],
   "source": [
    "data = pd.read_csv('almost_wrangled_data.csv')\n",
    "data.columns = ['Unnamed: 0', 'state_total', 'NSW_total', 'VIC_total', 'QLD_total', 'SA_total', 'WA_total', 'TAS_total', 'ACT_total']\n",
    "\n",
    "# Explicitly specify the date format \"%b-%Y\" (Month-Year)\n",
    "data[\"Unnamed: 0\"] = pd.to_datetime(data[\"Unnamed: 0\"], format=\"%b-%Y\", errors=\"coerce\")\n",
    "\n",
    "# Check if the date parsing worked without warnings\n",
    "print(data[\"Unnamed: 0\"].head())\n",
    "\n",
    "# Now proceed with the year and month extraction\n",
    "data[\"DATE_NUMERIC\"] = data[\"Unnamed: 0\"].map(lambda x: x.toordinal())\n",
    "data[\"YEAR\"] = data[\"Unnamed: 0\"].dt.year  # Extract the year\n",
    "data[\"MONTH\"] = data[\"Unnamed: 0\"].dt.month  # Extract the month\n",
    "\n",
    "# Check the year and month columns\n",
    "print(data[[\"Unnamed: 0\", \"YEAR\", \"MONTH\"]].head())\n",
    "\n",
    "data.to_csv(\"wrangled_data.csv\", index=False)"
   ]
  }
 ],
 "metadata": {
  "kernelspec": {
   "display_name": "Python 3",
   "language": "python",
   "name": "python3"
  },
  "language_info": {
   "codemirror_mode": {
    "name": "ipython",
    "version": 3
   },
   "file_extension": ".py",
   "mimetype": "text/x-python",
   "name": "python",
   "nbconvert_exporter": "python",
   "pygments_lexer": "ipython3",
   "version": "3.12.1"
  }
 },
 "nbformat": 4,
 "nbformat_minor": 2
}
